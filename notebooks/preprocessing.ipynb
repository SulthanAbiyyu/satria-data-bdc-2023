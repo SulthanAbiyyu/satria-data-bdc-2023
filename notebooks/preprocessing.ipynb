{
 "cells": [
  {
   "cell_type": "code",
   "execution_count": 243,
   "metadata": {},
   "outputs": [],
   "source": [
    "import cv2\n",
    "import pandas as pd\n",
    "import numpy as np\n",
    "import matplotlib.pyplot as plt\n",
    "\n",
    "from PIL import Image"
   ]
  },
  {
   "cell_type": "code",
   "execution_count": 2,
   "metadata": {},
   "outputs": [
    {
     "data": {
      "text/html": [
       "<div>\n",
       "<style scoped>\n",
       "    .dataframe tbody tr th:only-of-type {\n",
       "        vertical-align: middle;\n",
       "    }\n",
       "\n",
       "    .dataframe tbody tr th {\n",
       "        vertical-align: top;\n",
       "    }\n",
       "\n",
       "    .dataframe thead th {\n",
       "        text-align: right;\n",
       "    }\n",
       "</style>\n",
       "<table border=\"1\" class=\"dataframe\">\n",
       "  <thead>\n",
       "    <tr style=\"text-align: right;\">\n",
       "      <th></th>\n",
       "      <th>Vehicleregistrationplate</th>\n",
       "      <th>NameofFile</th>\n",
       "    </tr>\n",
       "  </thead>\n",
       "  <tbody>\n",
       "    <tr>\n",
       "      <th>0</th>\n",
       "      <td>A7814</td>\n",
       "      <td>DataTrain1.png</td>\n",
       "    </tr>\n",
       "    <tr>\n",
       "      <th>1</th>\n",
       "      <td>B1074QO</td>\n",
       "      <td>DataTrain2.png</td>\n",
       "    </tr>\n",
       "    <tr>\n",
       "      <th>2</th>\n",
       "      <td>B1031QO</td>\n",
       "      <td>DataTrain3.png</td>\n",
       "    </tr>\n",
       "    <tr>\n",
       "      <th>3</th>\n",
       "      <td>B187EDA</td>\n",
       "      <td>DataTrain4.png</td>\n",
       "    </tr>\n",
       "    <tr>\n",
       "      <th>4</th>\n",
       "      <td>B1089VD</td>\n",
       "      <td>DataTrain5.png</td>\n",
       "    </tr>\n",
       "  </tbody>\n",
       "</table>\n",
       "</div>"
      ],
      "text/plain": [
       "  Vehicleregistrationplate      NameofFile\n",
       "0                    A7814  DataTrain1.png\n",
       "1                  B1074QO  DataTrain2.png\n",
       "2                  B1031QO  DataTrain3.png\n",
       "3                  B187EDA  DataTrain4.png\n",
       "4                  B1089VD  DataTrain5.png"
      ]
     },
     "execution_count": 2,
     "metadata": {},
     "output_type": "execute_result"
    }
   ],
   "source": [
    "train = pd.read_csv(\"./data/train/DataTrain.csv\",\n",
    "                    delimiter=\";\").drop(columns=[\"Unnamed: 0\"])\n",
    "\n",
    "train.head()"
   ]
  },
  {
   "cell_type": "code",
   "execution_count": 274,
   "metadata": {},
   "outputs": [],
   "source": [
    "def upscale(img):\n",
    "    sr = cv2.dnn_superres.DnnSuperResImpl_create()\n",
    "    path = \"EDSR_x4.pb\"\n",
    "    sr.readModel(path)\n",
    "    sr.setModel(\"edsr\", 4)\n",
    "\n",
    "    image = sr.upsample(img)\n",
    "    image = cv2.resize(image, (img.shape[1], img.shape[0]))\n",
    "    \n",
    "    return image\n",
    "    \n",
    "def denoise(img):\n",
    "    img = cv2.fastNlMeansDenoisingColored(img, None, 10, 10, 5, 5)\n",
    "    \n",
    "    return img\n",
    "\n",
    "def denoise_gray(img):\n",
    "    img = cv2.fastNlMeansDenoising(img, None, 10, 5, 5)\n",
    "    \n",
    "    return img\n",
    "\n",
    "def brightNcontrast(img):\n",
    "    img = cv2.convertScaleAbs(img, alpha=2, beta=1.5)\n",
    "    \n",
    "    return img\n",
    "\n",
    "def sharpen(img):\n",
    "    kernel = np.array([[-1, -1, -1], [-1, 9, -1], [-1, -1, -1]])\n",
    "    img = cv2.filter2D(img, -1, kernel)\n",
    "    \n",
    "    return img\n",
    "\n",
    "def to_gray(img):\n",
    "    img = cv2.cvtColor(img, cv2.COLOR_BGR2GRAY)\n",
    "    \n",
    "    return img\n",
    "\n",
    "def edge(img):\n",
    "    se = cv2.getStructuringElement(cv2.MORPH_RECT, (8, 8))\n",
    "    bg = cv2.morphologyEx(img, cv2.MORPH_DILATE, se)\n",
    "    img = cv2.divide(img, bg, scale=255)\n",
    "    img = cv2.threshold(img, 127, 255, cv2.THRESH_OTSU)[1]\n",
    "    img = cv2.Canny(img, 50, 50)\n",
    "    \n",
    "    return img\n",
    "\n",
    "def preprocess(img):\n",
    "    img_name = img.split(\"/\")[-1]\n",
    "    img = cv2.imread(img)\n",
    "    img = denoise(img)\n",
    "    img = to_gray(img)\n",
    "    img = sharpen(img)\n",
    "    img = denoise_gray(img)\n",
    "    img = edge(img)\n",
    "    \n",
    "    pil_img = Image.fromarray(img)\n",
    "    pil_img.save(f\"./data/processed/{img_name}\")\n",
    "    \n",
    "\n",
    "def preprocess_test(img):\n",
    "    img_name = img.split(\"/\")[-1]\n",
    "    img = cv2.imread(img)\n",
    "    img = denoise(img)\n",
    "    img = to_gray(img)\n",
    "    img = sharpen(img)\n",
    "    img = denoise_gray(img)\n",
    "    img = edge(img)\n",
    "\n",
    "    pil_img = Image.fromarray(img)\n",
    "    pil_img.save(f\"./data/processed_test/{img_name}\")\n",
    "\n",
    "def preprocess_v2(img):\n",
    "    img_name = img.split(\"/\")[-1]\n",
    "    img = cv2.imread(img)\n",
    "    img = denoise(img)\n",
    "    img = to_gray(img)\n",
    "    img = sharpen(img)\n",
    "    img = denoise_gray(img)\n",
    "    \n",
    "    pil_img = Image.fromarray(img)\n",
    "    pil_img.save(f\"./data/processed_v2/train/{img_name}\")\n",
    "    \n",
    "def preprocess_v2_test(img):\n",
    "    img_name = img.split(\"/\")[-1]\n",
    "    img = cv2.imread(img)\n",
    "    img = denoise(img)\n",
    "    img = to_gray(img)\n",
    "    img = sharpen(img)\n",
    "    img = denoise_gray(img)\n",
    "    \n",
    "    pil_img = Image.fromarray(img)\n",
    "    pil_img.save(f\"./data/processed_v2/test/tis/{img_name}\")"
   ]
  },
  {
   "cell_type": "code",
   "execution_count": 261,
   "metadata": {},
   "outputs": [],
   "source": [
    "from tqdm import tqdm"
   ]
  },
  {
   "cell_type": "code",
   "execution_count": 262,
   "metadata": {},
   "outputs": [
    {
     "name": "stderr",
     "output_type": "stream",
     "text": [
      "100%|██████████| 800/800 [00:19<00:00, 40.56it/s]\n"
     ]
    }
   ],
   "source": [
    "img_paths = [f\"./data/train/DataTrain{i}.png\" for i in range(1, 801)]\n",
    "\n",
    "for path in tqdm(img_paths):\n",
    "    preprocess(path)"
   ]
  },
  {
   "cell_type": "code",
   "execution_count": 264,
   "metadata": {},
   "outputs": [
    {
     "name": "stderr",
     "output_type": "stream",
     "text": [
      "100%|██████████| 100/100 [00:04<00:00, 20.44it/s]\n"
     ]
    }
   ],
   "source": [
    "img_paths_test = [f\"./data/test/DataTest{i}.png\" for i in range(1, 101)]\n",
    "\n",
    "for path in tqdm(img_paths_test):\n",
    "    preprocess_test(path)"
   ]
  },
  {
   "cell_type": "code",
   "execution_count": 271,
   "metadata": {},
   "outputs": [
    {
     "name": "stderr",
     "output_type": "stream",
     "text": [
      "100%|██████████| 800/800 [00:32<00:00, 24.49it/s]\n"
     ]
    }
   ],
   "source": [
    "img_paths = [f\"./data/train/DataTrain{i}.png\" for i in range(1, 801)]\n",
    "\n",
    "for path in tqdm(img_paths):\n",
    "    preprocess_v2(path)"
   ]
  },
  {
   "cell_type": "code",
   "execution_count": 275,
   "metadata": {},
   "outputs": [
    {
     "name": "stderr",
     "output_type": "stream",
     "text": [
      "100%|██████████| 100/100 [00:03<00:00, 29.37it/s]\n"
     ]
    }
   ],
   "source": [
    "img_paths_test = [f\"./data/test/DataTest{i}.png\" for i in range(1, 101)]\n",
    "\n",
    "for path in tqdm(img_paths_test):\n",
    "    preprocess_v2_test(path)\n"
   ]
  },
  {
   "cell_type": "code",
   "execution_count": null,
   "metadata": {},
   "outputs": [],
   "source": []
  }
 ],
 "metadata": {
  "kernelspec": {
   "display_name": "Python 3.8.12 ('DataScience')",
   "language": "python",
   "name": "python3"
  },
  "language_info": {
   "codemirror_mode": {
    "name": "ipython",
    "version": 3
   },
   "file_extension": ".py",
   "mimetype": "text/x-python",
   "name": "python",
   "nbconvert_exporter": "python",
   "pygments_lexer": "ipython3",
   "version": "3.8.12"
  },
  "orig_nbformat": 4,
  "vscode": {
   "interpreter": {
    "hash": "4bad0270b6e2e88c970a45ff63675ce57c4928b866733da83e94b5f82553bcb5"
   }
  }
 },
 "nbformat": 4,
 "nbformat_minor": 2
}

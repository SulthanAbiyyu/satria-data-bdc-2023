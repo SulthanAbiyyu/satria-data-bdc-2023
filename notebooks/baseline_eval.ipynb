{
 "cells": [
  {
   "cell_type": "code",
   "execution_count": 74,
   "metadata": {},
   "outputs": [],
   "source": [
    "import pandas as pd"
   ]
  },
  {
   "cell_type": "code",
   "execution_count": 75,
   "metadata": {},
   "outputs": [],
   "source": [
    "baseline_10k = pd.read_csv(\"./eval/baseline/baseline_10000.txt\",\n",
    "                   sep=\"\\t\", header=None)[1].str.upper()\n",
    "\n",
    "baseline_5k = pd.read_csv(\"./eval/baseline/baseline_5500.txt\",\n",
    "                           sep=\"\\t\", header=None)[1].str.upper()\n",
    "\n",
    "test_label = pd.read_csv(\"./eval/test_label.txt\", sep=\"\\t\", header=None)"
   ]
  },
  {
   "cell_type": "code",
   "execution_count": 76,
   "metadata": {},
   "outputs": [],
   "source": [
    "baseline_10k_list = baseline_10k.str.strip().tolist()\n",
    "baseline_5k_list = baseline_5k.str.strip().tolist()\n",
    "test_label_list = test_label[0].str.strip().tolist()"
   ]
  },
  {
   "cell_type": "code",
   "execution_count": 82,
   "metadata": {},
   "outputs": [
    {
     "data": {
      "text/plain": [
       "0.6066666666666668"
      ]
     },
     "execution_count": 82,
     "metadata": {},
     "output_type": "execute_result"
    }
   ],
   "source": [
    "results = []\n",
    "for i in range(100):\n",
    "    true_len = len(test_label_list[i])\n",
    "    pred_len = len(baseline_10k_list[i])\n",
    "    \n",
    "    if true_len < 9:\n",
    "        test_label_list[i] += \" \" * (9 - true_len)\n",
    "        \n",
    "    if pred_len < 9:\n",
    "        baseline_10k_list[i] += \" \" * (9 - pred_len)\n",
    "        \n",
    "    correct = 0\n",
    "    for j in range(true_len):\n",
    "        if test_label_list[i][j] == baseline_10k_list[i][j]:\n",
    "            correct += 1\n",
    "    results.append(correct / true_len)\n",
    "    \n",
    "sum(results) / len(results)"
   ]
  },
  {
   "cell_type": "code",
   "execution_count": 83,
   "metadata": {},
   "outputs": [
    {
     "data": {
      "text/plain": [
       "0.6177777777777778"
      ]
     },
     "execution_count": 83,
     "metadata": {},
     "output_type": "execute_result"
    }
   ],
   "source": [
    "results = []\n",
    "for i in range(100):\n",
    "    true_len = len(test_label_list[i])\n",
    "    pred_len = len(baseline_5k_list[i])\n",
    "\n",
    "    if true_len < 9:\n",
    "        test_label_list[i] += \" \" * (9 - true_len)\n",
    "\n",
    "    if pred_len < 9:\n",
    "        baseline_5k_list[i] += \" \" * (9 - pred_len)\n",
    "\n",
    "    correct = 0\n",
    "    for j in range(true_len):\n",
    "        if test_label_list[i][j] == baseline_5k_list[i][j]:\n",
    "            correct += 1\n",
    "    results.append(correct / true_len)\n",
    "\n",
    "sum(results) / len(results)"
   ]
  }
 ],
 "metadata": {
  "kernelspec": {
   "display_name": "Python 3.9.2 64-bit",
   "language": "python",
   "name": "python3"
  },
  "language_info": {
   "codemirror_mode": {
    "name": "ipython",
    "version": 3
   },
   "file_extension": ".py",
   "mimetype": "text/x-python",
   "name": "python",
   "nbconvert_exporter": "python",
   "pygments_lexer": "ipython3",
   "version": "3.9.2"
  },
  "orig_nbformat": 4,
  "vscode": {
   "interpreter": {
    "hash": "81794d4967e6c3204c66dcd87b604927b115b27c00565d3d43f05ba2f3a2cb0d"
   }
  }
 },
 "nbformat": 4,
 "nbformat_minor": 2
}
